{
 "cells": [
  {
   "cell_type": "code",
   "execution_count": 3,
   "id": "20905486",
   "metadata": {},
   "outputs": [],
   "source": [
    "JSON_PATH = 'assets/folds_indices_Data_{}.json'\n",
    "ROOT_DIR = '../..'"
   ]
  },
  {
   "cell_type": "code",
   "execution_count": 4,
   "id": "34777acc",
   "metadata": {},
   "outputs": [],
   "source": [
    "import json\n",
    "import os\n",
    "\n",
    "os.chdir(ROOT_DIR)"
   ]
  },
  {
   "cell_type": "code",
   "execution_count": 5,
   "id": "a1332de5",
   "metadata": {},
   "outputs": [
    {
     "name": "stdout",
     "output_type": "stream",
     "text": [
      "dict_keys(['folds', 'file_refs'])\n"
     ]
    }
   ],
   "source": [
    "with open(JSON_PATH.format(\"Crescent\"), 'r') as f:\n",
    "    data = json.load(f)\n",
    "\n",
    "print(data.keys())"
   ]
  },
  {
   "cell_type": "code",
   "execution_count": 6,
   "id": "4afbe2c1",
   "metadata": {},
   "outputs": [
    {
     "data": {
      "text/plain": [
       "(4, 12772)"
      ]
     },
     "execution_count": 6,
     "metadata": {},
     "output_type": "execute_result"
    }
   ],
   "source": [
    "len(data['folds']), len(data['file_refs'])"
   ]
  },
  {
   "cell_type": "code",
   "execution_count": 7,
   "id": "dd43fe4b",
   "metadata": {},
   "outputs": [],
   "source": [
    "def print_all_keys(d, depth = 0):\n",
    "    for k, v in d.items():\n",
    "        if isinstance(v, dict):\n",
    "            print('|'*depth, '->', k, f\"({len(v)} items)\")\n",
    "            print_all_keys(v, depth=depth + 1)\n",
    "        elif isinstance(v, list):\n",
    "            print('|'*depth, '+', k, f\"({len(v)} items)\")\n",
    "            for i in v:\n",
    "                if isinstance(i, dict):\n",
    "                    print_all_keys(i, depth=depth + 1)\n",
    "        else:\n",
    "            print('|'*depth, '|', k, f\"()\")"
   ]
  },
  {
   "cell_type": "code",
   "execution_count": 8,
   "id": "6ce9c30c",
   "metadata": {},
   "outputs": [
    {
     "name": "stdout",
     "output_type": "stream",
     "text": [
      " -> folds (4 items)\n",
      "| + 2 (2 items)\n",
      "|| + train_idx (6386 items)\n",
      "|| + test_idx (6386 items)\n",
      "|| + train_files (6386 items)\n",
      "|| + test_files (6386 items)\n",
      "|| + train_idx (6386 items)\n",
      "|| + test_idx (6386 items)\n",
      "|| + train_files (6386 items)\n",
      "|| + test_files (6386 items)\n",
      "| + 3 (3 items)\n",
      "|| + train_idx (8514 items)\n",
      "|| + test_idx (4258 items)\n",
      "|| + train_files (8514 items)\n",
      "|| + test_files (4258 items)\n",
      "|| + train_idx (8515 items)\n",
      "|| + test_idx (4257 items)\n",
      "|| + train_files (8515 items)\n",
      "|| + test_files (4257 items)\n",
      "|| + train_idx (8515 items)\n",
      "|| + test_idx (4257 items)\n",
      "|| + train_files (8515 items)\n",
      "|| + test_files (4257 items)\n",
      "| + 4 (4 items)\n",
      "|| + train_idx (9579 items)\n",
      "|| + test_idx (3193 items)\n",
      "|| + train_files (9579 items)\n",
      "|| + test_files (3193 items)\n",
      "|| + train_idx (9579 items)\n",
      "|| + test_idx (3193 items)\n",
      "|| + train_files (9579 items)\n",
      "|| + test_files (3193 items)\n",
      "|| + train_idx (9579 items)\n",
      "|| + test_idx (3193 items)\n",
      "|| + train_files (9579 items)\n",
      "|| + test_files (3193 items)\n",
      "|| + train_idx (9579 items)\n",
      "|| + test_idx (3193 items)\n",
      "|| + train_files (9579 items)\n",
      "|| + test_files (3193 items)\n",
      "| + 5 (5 items)\n",
      "|| + train_idx (10217 items)\n",
      "|| + test_idx (2555 items)\n",
      "|| + train_files (10217 items)\n",
      "|| + test_files (2555 items)\n",
      "|| + train_idx (10217 items)\n",
      "|| + test_idx (2555 items)\n",
      "|| + train_files (10217 items)\n",
      "|| + test_files (2555 items)\n",
      "|| + train_idx (10218 items)\n",
      "|| + test_idx (2554 items)\n",
      "|| + train_files (10218 items)\n",
      "|| + test_files (2554 items)\n",
      "|| + train_idx (10218 items)\n",
      "|| + test_idx (2554 items)\n",
      "|| + train_files (10218 items)\n",
      "|| + test_files (2554 items)\n",
      "|| + train_idx (10218 items)\n",
      "|| + test_idx (2554 items)\n",
      "|| + train_files (10218 items)\n",
      "|| + test_files (2554 items)\n",
      " + file_refs (12772 items)\n"
     ]
    }
   ],
   "source": [
    "print_all_keys(data)"
   ]
  },
  {
   "cell_type": "code",
   "execution_count": 9,
   "id": "47ce584e",
   "metadata": {},
   "outputs": [
    {
     "data": {
      "text/plain": [
       "dict_keys(['2', '3', '4', '5'])"
      ]
     },
     "execution_count": 9,
     "metadata": {},
     "output_type": "execute_result"
    }
   ],
   "source": [
    "data['folds'].keys()"
   ]
  },
  {
   "cell_type": "code",
   "execution_count": 10,
   "id": "445388e5",
   "metadata": {},
   "outputs": [
    {
     "name": "stdout",
     "output_type": "stream",
     "text": [
      "dict_keys(['split_1', 'split_2', 'split_3', 'split_4', 'split_5', 'split_6', 'split_7', 'split_8', 'split_9', 'split_10'])\n"
     ]
    }
   ],
   "source": [
    "MY_JSON = \"/datasets/terumo-splits-augmented/Crescent_vs_all/10_splits/splits_info.json\"\n",
    "with open(MY_JSON, 'r') as f:\n",
    "    my_json_data = json.load(f)\n",
    "\n",
    "print(my_json_data.keys())"
   ]
  },
  {
   "cell_type": "code",
   "execution_count": 53,
   "id": "e9052aaf",
   "metadata": {},
   "outputs": [
    {
     "name": "stdout",
     "output_type": "stream",
     "text": [
      " -> split_1 (2 items)\n",
      "| + others (634 items)\n",
      "| + Crescent (643 items)\n",
      " -> split_2 (2 items)\n",
      "| + others (641 items)\n",
      "| + Crescent (636 items)\n",
      " -> split_3 (2 items)\n",
      "| + others (625 items)\n",
      "| + Crescent (652 items)\n",
      " -> split_4 (2 items)\n",
      "| + others (625 items)\n",
      "| + Crescent (652 items)\n",
      " -> split_5 (2 items)\n",
      "| + others (615 items)\n",
      "| + Crescent (662 items)\n",
      " -> split_6 (2 items)\n",
      "| + others (679 items)\n",
      "| + Crescent (598 items)\n",
      " -> split_7 (2 items)\n",
      "| + others (658 items)\n",
      "| + Crescent (619 items)\n",
      " -> split_8 (2 items)\n",
      "| + others (641 items)\n",
      "| + Crescent (636 items)\n",
      " -> split_9 (2 items)\n",
      "| + others (627 items)\n",
      "| + Crescent (650 items)\n",
      " -> split_10 (2 items)\n",
      "| + others (641 items)\n",
      "| + Crescent (638 items)\n"
     ]
    }
   ],
   "source": [
    "print_all_keys(my_json_data)"
   ]
  },
  {
   "cell_type": "code",
   "execution_count": 14,
   "id": "33f5643c",
   "metadata": {},
   "outputs": [
    {
     "name": "stdout",
     "output_type": "stream",
     "text": [
      "-------------------- 2 --------------------\n",
      "Treino: ['/datasets/terumo-data-jpeg/Terumo_Crescent_PAS/2656774.jpeg', '/datasets/terumo-data-jpeg/Terumo_Crescent_PAS/975784.jpeg', '/datasets/terumo-data-jpeg/Terumo_Crescent_PAS/972902.jpeg', '/datasets/terumo-data-jpeg/Terumo_Crescent_PAS/975256.jpeg', '/datasets/terumo-data-jpeg/Terumo_Crescent_PAS/983137.jpeg', '/datasets/terumo-data-jpeg/Terumo_Crescent_PAS/982806.jpeg', '/datasets/terumo-data-jpeg/Terumo_Crescent_PAS/975728.jpeg', '/datasets/terumo-data-jpeg/Terumo_Crescent_PAS/983745.jpeg', '/datasets/terumo-data-jpeg/Terumo_Crescent_PAS/973014.jpeg', '/datasets/terumo-data-jpeg/Terumo_Crescent_PAS/957083.jpeg']\n",
      "Teste: ['/datasets/terumo-data-jpeg/Terumo_Crescent_PAS/979422.jpeg', '/datasets/terumo-data-jpeg/Terumo_Crescent_PAS/956729.jpeg', '/datasets/terumo-data-jpeg/Terumo_Crescent_PAS/954240.jpeg', '/datasets/terumo-data-jpeg/Terumo_Crescent_PAS/965861.jpeg', '/datasets/terumo-data-jpeg/Terumo_Crescent_PAS/974304.jpeg', '/datasets/terumo-data-jpeg/Terumo_Crescent_PAS/971782.jpeg', '/datasets/terumo-data-jpeg/Terumo_Crescent_PAS/2656756.jpeg', '/datasets/terumo-data-jpeg/Terumo_Crescent_PAS/978862.jpeg', '/datasets/terumo-data-jpeg/Terumo_Crescent_PAS/981664.jpeg', '/datasets/terumo-data-jpeg/Terumo_Crescent_PAS/975478.jpeg']\n",
      "--\n",
      "Treino: ['/datasets/terumo-data-jpeg/Terumo_Crescent_PAS/979422.jpeg', '/datasets/terumo-data-jpeg/Terumo_Crescent_PAS/956729.jpeg', '/datasets/terumo-data-jpeg/Terumo_Crescent_PAS/954240.jpeg', '/datasets/terumo-data-jpeg/Terumo_Crescent_PAS/965861.jpeg', '/datasets/terumo-data-jpeg/Terumo_Crescent_PAS/974304.jpeg', '/datasets/terumo-data-jpeg/Terumo_Crescent_PAS/971782.jpeg', '/datasets/terumo-data-jpeg/Terumo_Crescent_PAS/2656756.jpeg', '/datasets/terumo-data-jpeg/Terumo_Crescent_PAS/978862.jpeg', '/datasets/terumo-data-jpeg/Terumo_Crescent_PAS/981664.jpeg', '/datasets/terumo-data-jpeg/Terumo_Crescent_PAS/975478.jpeg']\n",
      "Teste: ['/datasets/terumo-data-jpeg/Terumo_Crescent_PAS/2656774.jpeg', '/datasets/terumo-data-jpeg/Terumo_Crescent_PAS/975784.jpeg', '/datasets/terumo-data-jpeg/Terumo_Crescent_PAS/972902.jpeg', '/datasets/terumo-data-jpeg/Terumo_Crescent_PAS/975256.jpeg', '/datasets/terumo-data-jpeg/Terumo_Crescent_PAS/983137.jpeg', '/datasets/terumo-data-jpeg/Terumo_Crescent_PAS/982806.jpeg', '/datasets/terumo-data-jpeg/Terumo_Crescent_PAS/975728.jpeg', '/datasets/terumo-data-jpeg/Terumo_Crescent_PAS/983745.jpeg', '/datasets/terumo-data-jpeg/Terumo_Crescent_PAS/973014.jpeg', '/datasets/terumo-data-jpeg/Terumo_Crescent_PAS/957083.jpeg']\n",
      "--\n",
      "-------------------- 3 --------------------\n",
      "Treino: ['/datasets/terumo-data-jpeg/Terumo_Crescent_PAS/2656774.jpeg', '/datasets/terumo-data-jpeg/Terumo_Crescent_PAS/975784.jpeg', '/datasets/terumo-data-jpeg/Terumo_Crescent_PAS/972902.jpeg', '/datasets/terumo-data-jpeg/Terumo_Crescent_PAS/974304.jpeg', '/datasets/terumo-data-jpeg/Terumo_Crescent_PAS/975256.jpeg', '/datasets/terumo-data-jpeg/Terumo_Crescent_PAS/983137.jpeg', '/datasets/terumo-data-jpeg/Terumo_Crescent_PAS/982806.jpeg', '/datasets/terumo-data-jpeg/Terumo_Crescent_PAS/975728.jpeg', '/datasets/terumo-data-jpeg/Terumo_Crescent_PAS/983745.jpeg', '/datasets/terumo-data-jpeg/Terumo_Crescent_PAS/973014.jpeg']\n",
      "Teste: ['/datasets/terumo-data-jpeg/Terumo_Crescent_PAS/979422.jpeg', '/datasets/terumo-data-jpeg/Terumo_Crescent_PAS/956729.jpeg', '/datasets/terumo-data-jpeg/Terumo_Crescent_PAS/954240.jpeg', '/datasets/terumo-data-jpeg/Terumo_Crescent_PAS/965861.jpeg', '/datasets/terumo-data-jpeg/Terumo_Crescent_PAS/971782.jpeg', '/datasets/terumo-data-jpeg/Terumo_Crescent_PAS/2656756.jpeg', '/datasets/terumo-data-jpeg/Terumo_Crescent_PAS/981664.jpeg', '/datasets/terumo-data-jpeg/Terumo_Crescent_PAS/984658.jpeg', '/datasets/terumo-data-jpeg/Terumo_Crescent_PAS/976465.jpeg', '/datasets/terumo-data-jpeg/Terumo_Crescent_PAS/972454.jpeg']\n",
      "--\n",
      "Treino: ['/datasets/terumo-data-jpeg/Terumo_Crescent_PAS/979422.jpeg', '/datasets/terumo-data-jpeg/Terumo_Crescent_PAS/956729.jpeg', '/datasets/terumo-data-jpeg/Terumo_Crescent_PAS/2656774.jpeg', '/datasets/terumo-data-jpeg/Terumo_Crescent_PAS/954240.jpeg', '/datasets/terumo-data-jpeg/Terumo_Crescent_PAS/965861.jpeg', '/datasets/terumo-data-jpeg/Terumo_Crescent_PAS/971782.jpeg', '/datasets/terumo-data-jpeg/Terumo_Crescent_PAS/983137.jpeg', '/datasets/terumo-data-jpeg/Terumo_Crescent_PAS/975728.jpeg', '/datasets/terumo-data-jpeg/Terumo_Crescent_PAS/983745.jpeg', '/datasets/terumo-data-jpeg/Terumo_Crescent_PAS/2656756.jpeg']\n",
      "Teste: ['/datasets/terumo-data-jpeg/Terumo_Crescent_PAS/975784.jpeg', '/datasets/terumo-data-jpeg/Terumo_Crescent_PAS/972902.jpeg', '/datasets/terumo-data-jpeg/Terumo_Crescent_PAS/974304.jpeg', '/datasets/terumo-data-jpeg/Terumo_Crescent_PAS/975256.jpeg', '/datasets/terumo-data-jpeg/Terumo_Crescent_PAS/982806.jpeg', '/datasets/terumo-data-jpeg/Terumo_Crescent_PAS/978862.jpeg', '/datasets/terumo-data-jpeg/Terumo_Crescent_PAS/975478.jpeg', '/datasets/terumo-data-jpeg/Terumo_Crescent_PAS/961246.jpeg', '/datasets/terumo-data-jpeg/Terumo_Crescent_PAS/959089.jpeg', '/datasets/terumo-data-jpeg/Terumo_Crescent_PAS/988905.jpeg']\n",
      "--\n",
      "Treino: ['/datasets/terumo-data-jpeg/Terumo_Crescent_PAS/979422.jpeg', '/datasets/terumo-data-jpeg/Terumo_Crescent_PAS/956729.jpeg', '/datasets/terumo-data-jpeg/Terumo_Crescent_PAS/954240.jpeg', '/datasets/terumo-data-jpeg/Terumo_Crescent_PAS/975784.jpeg', '/datasets/terumo-data-jpeg/Terumo_Crescent_PAS/972902.jpeg', '/datasets/terumo-data-jpeg/Terumo_Crescent_PAS/965861.jpeg', '/datasets/terumo-data-jpeg/Terumo_Crescent_PAS/974304.jpeg', '/datasets/terumo-data-jpeg/Terumo_Crescent_PAS/975256.jpeg', '/datasets/terumo-data-jpeg/Terumo_Crescent_PAS/971782.jpeg', '/datasets/terumo-data-jpeg/Terumo_Crescent_PAS/982806.jpeg']\n",
      "Teste: ['/datasets/terumo-data-jpeg/Terumo_Crescent_PAS/2656774.jpeg', '/datasets/terumo-data-jpeg/Terumo_Crescent_PAS/983137.jpeg', '/datasets/terumo-data-jpeg/Terumo_Crescent_PAS/975728.jpeg', '/datasets/terumo-data-jpeg/Terumo_Crescent_PAS/983745.jpeg', '/datasets/terumo-data-jpeg/Terumo_Crescent_PAS/973014.jpeg', '/datasets/terumo-data-jpeg/Terumo_Crescent_PAS/957083.jpeg', '/datasets/terumo-data-jpeg/Terumo_Crescent_PAS/962684.jpeg', '/datasets/terumo-data-jpeg/Terumo_Crescent_PAS/970993.jpeg', '/datasets/terumo-data-jpeg/Terumo_Crescent_PAS/976064.jpeg', '/datasets/terumo-data-jpeg/Terumo_Crescent_PAS/980318.jpeg']\n",
      "--\n",
      "-------------------- 4 --------------------\n",
      "Treino: ['/datasets/terumo-data-jpeg/Terumo_Crescent_PAS/2656774.jpeg', '/datasets/terumo-data-jpeg/Terumo_Crescent_PAS/975784.jpeg', '/datasets/terumo-data-jpeg/Terumo_Crescent_PAS/972902.jpeg', '/datasets/terumo-data-jpeg/Terumo_Crescent_PAS/974304.jpeg', '/datasets/terumo-data-jpeg/Terumo_Crescent_PAS/975256.jpeg', '/datasets/terumo-data-jpeg/Terumo_Crescent_PAS/971782.jpeg', '/datasets/terumo-data-jpeg/Terumo_Crescent_PAS/983137.jpeg', '/datasets/terumo-data-jpeg/Terumo_Crescent_PAS/982806.jpeg', '/datasets/terumo-data-jpeg/Terumo_Crescent_PAS/975728.jpeg', '/datasets/terumo-data-jpeg/Terumo_Crescent_PAS/983745.jpeg']\n",
      "Teste: ['/datasets/terumo-data-jpeg/Terumo_Crescent_PAS/979422.jpeg', '/datasets/terumo-data-jpeg/Terumo_Crescent_PAS/956729.jpeg', '/datasets/terumo-data-jpeg/Terumo_Crescent_PAS/954240.jpeg', '/datasets/terumo-data-jpeg/Terumo_Crescent_PAS/965861.jpeg', '/datasets/terumo-data-jpeg/Terumo_Crescent_PAS/981664.jpeg', '/datasets/terumo-data-jpeg/Terumo_Crescent_PAS/984658.jpeg', '/datasets/terumo-data-jpeg/Terumo_Crescent_PAS/976465.jpeg', '/datasets/terumo-data-jpeg/Terumo_Crescent_PAS/972454.jpeg', '/datasets/terumo-data-jpeg/Terumo_Crescent_PAS/959543.jpeg', '/datasets/terumo-data-jpeg/Terumo_Crescent_PAS/967222.jpeg']\n",
      "--\n",
      "Treino: ['/datasets/terumo-data-jpeg/Terumo_Crescent_PAS/979422.jpeg', '/datasets/terumo-data-jpeg/Terumo_Crescent_PAS/956729.jpeg', '/datasets/terumo-data-jpeg/Terumo_Crescent_PAS/2656774.jpeg', '/datasets/terumo-data-jpeg/Terumo_Crescent_PAS/954240.jpeg', '/datasets/terumo-data-jpeg/Terumo_Crescent_PAS/975784.jpeg', '/datasets/terumo-data-jpeg/Terumo_Crescent_PAS/972902.jpeg', '/datasets/terumo-data-jpeg/Terumo_Crescent_PAS/965861.jpeg', '/datasets/terumo-data-jpeg/Terumo_Crescent_PAS/975256.jpeg', '/datasets/terumo-data-jpeg/Terumo_Crescent_PAS/983137.jpeg', '/datasets/terumo-data-jpeg/Terumo_Crescent_PAS/982806.jpeg']\n",
      "Teste: ['/datasets/terumo-data-jpeg/Terumo_Crescent_PAS/974304.jpeg', '/datasets/terumo-data-jpeg/Terumo_Crescent_PAS/971782.jpeg', '/datasets/terumo-data-jpeg/Terumo_Crescent_PAS/2656756.jpeg', '/datasets/terumo-data-jpeg/Terumo_Crescent_PAS/978862.jpeg', '/datasets/terumo-data-jpeg/Terumo_Crescent_PAS/975478.jpeg', '/datasets/terumo-data-jpeg/Terumo_Crescent_PAS/961246.jpeg', '/datasets/terumo-data-jpeg/Terumo_Crescent_PAS/959089.jpeg', '/datasets/terumo-data-jpeg/Terumo_Crescent_PAS/985436.jpeg', '/datasets/terumo-data-jpeg/Terumo_Crescent_PAS/987363.jpeg', '/datasets/terumo-data-jpeg/Terumo_Crescent_PAS/963132.jpeg']\n",
      "--\n",
      "Treino: ['/datasets/terumo-data-jpeg/Terumo_Crescent_PAS/979422.jpeg', '/datasets/terumo-data-jpeg/Terumo_Crescent_PAS/956729.jpeg', '/datasets/terumo-data-jpeg/Terumo_Crescent_PAS/2656774.jpeg', '/datasets/terumo-data-jpeg/Terumo_Crescent_PAS/954240.jpeg', '/datasets/terumo-data-jpeg/Terumo_Crescent_PAS/965861.jpeg', '/datasets/terumo-data-jpeg/Terumo_Crescent_PAS/974304.jpeg', '/datasets/terumo-data-jpeg/Terumo_Crescent_PAS/971782.jpeg', '/datasets/terumo-data-jpeg/Terumo_Crescent_PAS/983137.jpeg', '/datasets/terumo-data-jpeg/Terumo_Crescent_PAS/983745.jpeg', '/datasets/terumo-data-jpeg/Terumo_Crescent_PAS/2656756.jpeg']\n",
      "Teste: ['/datasets/terumo-data-jpeg/Terumo_Crescent_PAS/975784.jpeg', '/datasets/terumo-data-jpeg/Terumo_Crescent_PAS/972902.jpeg', '/datasets/terumo-data-jpeg/Terumo_Crescent_PAS/975256.jpeg', '/datasets/terumo-data-jpeg/Terumo_Crescent_PAS/982806.jpeg', '/datasets/terumo-data-jpeg/Terumo_Crescent_PAS/975728.jpeg', '/datasets/terumo-data-jpeg/Terumo_Crescent_PAS/957083.jpeg', '/datasets/terumo-data-jpeg/Terumo_Crescent_PAS/962684.jpeg', '/datasets/terumo-data-jpeg/Terumo_Crescent_PAS/970993.jpeg', '/datasets/terumo-data-jpeg/Terumo_Crescent_PAS/976064.jpeg', '/datasets/terumo-data-jpeg/Terumo_Crescent_PAS/988905.jpeg']\n",
      "--\n",
      "Treino: ['/datasets/terumo-data-jpeg/Terumo_Crescent_PAS/979422.jpeg', '/datasets/terumo-data-jpeg/Terumo_Crescent_PAS/956729.jpeg', '/datasets/terumo-data-jpeg/Terumo_Crescent_PAS/954240.jpeg', '/datasets/terumo-data-jpeg/Terumo_Crescent_PAS/975784.jpeg', '/datasets/terumo-data-jpeg/Terumo_Crescent_PAS/972902.jpeg', '/datasets/terumo-data-jpeg/Terumo_Crescent_PAS/965861.jpeg', '/datasets/terumo-data-jpeg/Terumo_Crescent_PAS/974304.jpeg', '/datasets/terumo-data-jpeg/Terumo_Crescent_PAS/975256.jpeg', '/datasets/terumo-data-jpeg/Terumo_Crescent_PAS/971782.jpeg', '/datasets/terumo-data-jpeg/Terumo_Crescent_PAS/982806.jpeg']\n",
      "Teste: ['/datasets/terumo-data-jpeg/Terumo_Crescent_PAS/2656774.jpeg', '/datasets/terumo-data-jpeg/Terumo_Crescent_PAS/983137.jpeg', '/datasets/terumo-data-jpeg/Terumo_Crescent_PAS/983745.jpeg', '/datasets/terumo-data-jpeg/Terumo_Crescent_PAS/973014.jpeg', '/datasets/terumo-data-jpeg/Terumo_Crescent_PAS/980318.jpeg', '/datasets/terumo-data-jpeg/Terumo_Crescent_PAS/981776.jpeg', '/datasets/terumo-data-jpeg/Terumo_Crescent_PAS/961137.jpeg', '/datasets/terumo-data-jpeg/Terumo_Crescent_PAS/957312.jpeg', '/datasets/terumo-data-jpeg/Terumo_Crescent_PAS/984213.jpeg', '/datasets/terumo-data-jpeg/Terumo_Crescent_PAS/978974.jpeg']\n",
      "--\n",
      "-------------------- 5 --------------------\n",
      "Treino: ['/datasets/terumo-data-jpeg/Terumo_Crescent_PAS/2656774.jpeg', '/datasets/terumo-data-jpeg/Terumo_Crescent_PAS/975784.jpeg', '/datasets/terumo-data-jpeg/Terumo_Crescent_PAS/972902.jpeg', '/datasets/terumo-data-jpeg/Terumo_Crescent_PAS/974304.jpeg', '/datasets/terumo-data-jpeg/Terumo_Crescent_PAS/975256.jpeg', '/datasets/terumo-data-jpeg/Terumo_Crescent_PAS/971782.jpeg', '/datasets/terumo-data-jpeg/Terumo_Crescent_PAS/983137.jpeg', '/datasets/terumo-data-jpeg/Terumo_Crescent_PAS/982806.jpeg', '/datasets/terumo-data-jpeg/Terumo_Crescent_PAS/975728.jpeg', '/datasets/terumo-data-jpeg/Terumo_Crescent_PAS/983745.jpeg']\n",
      "Teste: ['/datasets/terumo-data-jpeg/Terumo_Crescent_PAS/979422.jpeg', '/datasets/terumo-data-jpeg/Terumo_Crescent_PAS/956729.jpeg', '/datasets/terumo-data-jpeg/Terumo_Crescent_PAS/954240.jpeg', '/datasets/terumo-data-jpeg/Terumo_Crescent_PAS/965861.jpeg', '/datasets/terumo-data-jpeg/Terumo_Crescent_PAS/981664.jpeg', '/datasets/terumo-data-jpeg/Terumo_Crescent_PAS/984658.jpeg', '/datasets/terumo-data-jpeg/Terumo_Crescent_PAS/972454.jpeg', '/datasets/terumo-data-jpeg/Terumo_Crescent_PAS/959543.jpeg', '/datasets/terumo-data-jpeg/Terumo_Crescent_PAS/967222.jpeg', '/datasets/terumo-data-jpeg/Terumo_Crescent_PAS/970324.jpeg']\n",
      "--\n",
      "Treino: ['/datasets/terumo-data-jpeg/Terumo_Crescent_PAS/979422.jpeg', '/datasets/terumo-data-jpeg/Terumo_Crescent_PAS/956729.jpeg', '/datasets/terumo-data-jpeg/Terumo_Crescent_PAS/2656774.jpeg', '/datasets/terumo-data-jpeg/Terumo_Crescent_PAS/954240.jpeg', '/datasets/terumo-data-jpeg/Terumo_Crescent_PAS/975784.jpeg', '/datasets/terumo-data-jpeg/Terumo_Crescent_PAS/972902.jpeg', '/datasets/terumo-data-jpeg/Terumo_Crescent_PAS/965861.jpeg', '/datasets/terumo-data-jpeg/Terumo_Crescent_PAS/974304.jpeg', '/datasets/terumo-data-jpeg/Terumo_Crescent_PAS/975256.jpeg', '/datasets/terumo-data-jpeg/Terumo_Crescent_PAS/983137.jpeg']\n",
      "Teste: ['/datasets/terumo-data-jpeg/Terumo_Crescent_PAS/971782.jpeg', '/datasets/terumo-data-jpeg/Terumo_Crescent_PAS/2656756.jpeg', '/datasets/terumo-data-jpeg/Terumo_Crescent_PAS/975478.jpeg', '/datasets/terumo-data-jpeg/Terumo_Crescent_PAS/961246.jpeg', '/datasets/terumo-data-jpeg/Terumo_Crescent_PAS/976465.jpeg', '/datasets/terumo-data-jpeg/Terumo_Crescent_PAS/959089.jpeg', '/datasets/terumo-data-jpeg/Terumo_Crescent_PAS/985436.jpeg', '/datasets/terumo-data-jpeg/Terumo_Crescent_PAS/987363.jpeg', '/datasets/terumo-data-jpeg/Terumo_Crescent_PAS/963132.jpeg', '/datasets/terumo-data-jpeg/Terumo_Crescent_PAS/964926.jpeg']\n",
      "--\n",
      "Treino: ['/datasets/terumo-data-jpeg/Terumo_Crescent_PAS/979422.jpeg', '/datasets/terumo-data-jpeg/Terumo_Crescent_PAS/956729.jpeg', '/datasets/terumo-data-jpeg/Terumo_Crescent_PAS/2656774.jpeg', '/datasets/terumo-data-jpeg/Terumo_Crescent_PAS/954240.jpeg', '/datasets/terumo-data-jpeg/Terumo_Crescent_PAS/975784.jpeg', '/datasets/terumo-data-jpeg/Terumo_Crescent_PAS/965861.jpeg', '/datasets/terumo-data-jpeg/Terumo_Crescent_PAS/971782.jpeg', '/datasets/terumo-data-jpeg/Terumo_Crescent_PAS/983137.jpeg', '/datasets/terumo-data-jpeg/Terumo_Crescent_PAS/975728.jpeg', '/datasets/terumo-data-jpeg/Terumo_Crescent_PAS/983745.jpeg']\n",
      "Teste: ['/datasets/terumo-data-jpeg/Terumo_Crescent_PAS/972902.jpeg', '/datasets/terumo-data-jpeg/Terumo_Crescent_PAS/974304.jpeg', '/datasets/terumo-data-jpeg/Terumo_Crescent_PAS/975256.jpeg', '/datasets/terumo-data-jpeg/Terumo_Crescent_PAS/982806.jpeg', '/datasets/terumo-data-jpeg/Terumo_Crescent_PAS/978862.jpeg', '/datasets/terumo-data-jpeg/Terumo_Crescent_PAS/988905.jpeg', '/datasets/terumo-data-jpeg/Terumo_Crescent_PAS/971334.jpeg', '/datasets/terumo-data-jpeg/Terumo_Crescent_PAS/971100.jpeg', '/datasets/terumo-data-jpeg/Terumo_Crescent_PAS/959207.jpeg', '/datasets/terumo-data-jpeg/Terumo_Crescent_PAS/965739.jpeg']\n",
      "--\n",
      "Treino: ['/datasets/terumo-data-jpeg/Terumo_Crescent_PAS/979422.jpeg', '/datasets/terumo-data-jpeg/Terumo_Crescent_PAS/956729.jpeg', '/datasets/terumo-data-jpeg/Terumo_Crescent_PAS/954240.jpeg', '/datasets/terumo-data-jpeg/Terumo_Crescent_PAS/972902.jpeg', '/datasets/terumo-data-jpeg/Terumo_Crescent_PAS/965861.jpeg', '/datasets/terumo-data-jpeg/Terumo_Crescent_PAS/974304.jpeg', '/datasets/terumo-data-jpeg/Terumo_Crescent_PAS/975256.jpeg', '/datasets/terumo-data-jpeg/Terumo_Crescent_PAS/971782.jpeg', '/datasets/terumo-data-jpeg/Terumo_Crescent_PAS/983137.jpeg', '/datasets/terumo-data-jpeg/Terumo_Crescent_PAS/982806.jpeg']\n",
      "Teste: ['/datasets/terumo-data-jpeg/Terumo_Crescent_PAS/2656774.jpeg', '/datasets/terumo-data-jpeg/Terumo_Crescent_PAS/975784.jpeg', '/datasets/terumo-data-jpeg/Terumo_Crescent_PAS/975728.jpeg', '/datasets/terumo-data-jpeg/Terumo_Crescent_PAS/983745.jpeg', '/datasets/terumo-data-jpeg/Terumo_Crescent_PAS/957083.jpeg', '/datasets/terumo-data-jpeg/Terumo_Crescent_PAS/962684.jpeg', '/datasets/terumo-data-jpeg/Terumo_Crescent_PAS/970993.jpeg', '/datasets/terumo-data-jpeg/Terumo_Crescent_PAS/976064.jpeg', '/datasets/terumo-data-jpeg/Terumo_Crescent_PAS/957312.jpeg', '/datasets/terumo-data-jpeg/Terumo_Crescent_PAS/972006.jpeg']\n",
      "--\n",
      "Treino: ['/datasets/terumo-data-jpeg/Terumo_Crescent_PAS/979422.jpeg', '/datasets/terumo-data-jpeg/Terumo_Crescent_PAS/956729.jpeg', '/datasets/terumo-data-jpeg/Terumo_Crescent_PAS/2656774.jpeg', '/datasets/terumo-data-jpeg/Terumo_Crescent_PAS/954240.jpeg', '/datasets/terumo-data-jpeg/Terumo_Crescent_PAS/975784.jpeg', '/datasets/terumo-data-jpeg/Terumo_Crescent_PAS/972902.jpeg', '/datasets/terumo-data-jpeg/Terumo_Crescent_PAS/965861.jpeg', '/datasets/terumo-data-jpeg/Terumo_Crescent_PAS/974304.jpeg', '/datasets/terumo-data-jpeg/Terumo_Crescent_PAS/975256.jpeg', '/datasets/terumo-data-jpeg/Terumo_Crescent_PAS/971782.jpeg']\n",
      "Teste: ['/datasets/terumo-data-jpeg/Terumo_Crescent_PAS/983137.jpeg', '/datasets/terumo-data-jpeg/Terumo_Crescent_PAS/973014.jpeg', '/datasets/terumo-data-jpeg/Terumo_Crescent_PAS/980318.jpeg', '/datasets/terumo-data-jpeg/Terumo_Crescent_PAS/981776.jpeg', '/datasets/terumo-data-jpeg/Terumo_Crescent_PAS/961137.jpeg', '/datasets/terumo-data-jpeg/Terumo_Crescent_PAS/984213.jpeg', '/datasets/terumo-data-jpeg/Terumo_Crescent_PAS/978974.jpeg', '/datasets/terumo-data-jpeg/Terumo_Crescent_PAS/2656819.jpeg', '/datasets/terumo-data-jpeg/Terumo_Crescent_PAS/976297.jpeg', '/datasets/terumo-data-jpeg/Terumo_Crescent_PAS/955143.jpeg']\n",
      "--\n",
      "Converted data saved to assets/converted_splits/\n"
     ]
    }
   ],
   "source": [
    "def convert_to_split_format(json_fpath: str, output_dir:str):\n",
    "\n",
    "    with open(json_fpath, 'r') as f:\n",
    "        data = json.load(f)\n",
    "\n",
    "    one_vs_all_class = json_fpath.split('_')[-1].split('.')[0]\n",
    "\n",
    "    os.makedirs(output_dir, exist_ok=True)\n",
    "    os.makedirs(os.path.join(output_dir, one_vs_all_class), exist_ok=True)\n",
    "    \n",
    "    for fold_key, indices in data['folds'].items():\n",
    "        fold_fpath = os.path.join(output_dir, one_vs_all_class, f\"{fold_key}_splits\")\n",
    "        os.makedirs(fold_fpath, exist_ok=True)\n",
    "        \n",
    "        print(\"-\"*20, fold_key, \"-\"*20)\n",
    "        split_data = {}\n",
    "        for i, subset in enumerate(data['folds'][fold_key]):\n",
    "            print(\"Treino:\", subset['train_files'][:10])\n",
    "            print(\"Teste:\", subset['test_files'][:10])\n",
    "            print('--')\n",
    "\n",
    "            #split_key = f\"split_{i}\"\n",
    "            #split_data[split_key] = {\n",
    "            #    'others': [x for x in data['file_refs'] if one_vs_all_class not in x],\n",
    "            #    one_vs_all_class: [x for x in data['file_refs'] if one_vs_all_class in x],\n",
    "            #}\n",
    "\n",
    "        #with open(os.path.join(fold_fpath, f\"split_info.json\"), 'w') as f:\n",
    "        #    json.dump(split_data, f, indent=4)\n",
    "    print(f\"Converted data saved to {output_dir}\")\n",
    "    return split_data\n",
    "\n",
    "# Example usage\n",
    "converted_data = convert_to_split_format(JSON_PATH.format(\"Crescent\"), output_dir='assets/converted_splits/')\n",
    "print_all_keys(converted_data)"
   ]
  },
  {
   "cell_type": "code",
   "execution_count": null,
   "id": "4bf78f27",
   "metadata": {},
   "outputs": [],
   "source": []
  }
 ],
 "metadata": {
  "kernelspec": {
   "display_name": "FM-embedding-eval",
   "language": "python",
   "name": "python3"
  },
  "language_info": {
   "codemirror_mode": {
    "name": "ipython",
    "version": 3
   },
   "file_extension": ".py",
   "mimetype": "text/x-python",
   "name": "python",
   "nbconvert_exporter": "python",
   "pygments_lexer": "ipython3",
   "version": "3.12.4"
  }
 },
 "nbformat": 4,
 "nbformat_minor": 5
}
